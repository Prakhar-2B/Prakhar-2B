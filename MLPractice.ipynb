{
  "nbformat": 4,
  "nbformat_minor": 0,
  "metadata": {
    "colab": {
      "name": "MLPractice.ipynb",
      "provenance": [],
      "collapsed_sections": [],
      "authorship_tag": "ABX9TyNXxN/EeyU4DH9SqcuWC45I",
      "include_colab_link": true
    },
    "kernelspec": {
      "name": "python3",
      "display_name": "Python 3"
    },
    "language_info": {
      "name": "python"
    }
  },
  "cells": [
    {
      "cell_type": "markdown",
      "metadata": {
        "id": "view-in-github",
        "colab_type": "text"
      },
      "source": [
        "<a href=\"https://colab.research.google.com/github/Prakhar-2B/Prakhar-2B/blob/main/MLPractice.ipynb\" target=\"_parent\"><img src=\"https://colab.research.google.com/assets/colab-badge.svg\" alt=\"Open In Colab\"/></a>"
      ]
    },
    {
      "cell_type": "code",
      "metadata": {
        "id": "CR3HpsrrtvLt"
      },
      "source": [
        "import pandas as pd \n",
        "import numpy as np\n",
        "from sklearn import neighbors, metrics \n",
        "from sklearn.preprocessing import LabelEncoder\n",
        "from sklearn.model_selection import train_test_split\n",
        "\n",
        "data =pd.read_csv('car.data')\n",
        "\n",
        "X=data[['buying',\n",
        "        'maint',\n",
        "        'safety'\n",
        "]].values\n",
        "\n",
        "y=data[['class']]\n",
        "\n",
        "\n",
        "Le=LabelEncoder()\n",
        "for i in range(len(X[0])):\n",
        "  X[:, i] = Le.fit_transform(X[:, i])\n",
        "\n",
        "\n",
        "\n",
        "label_mapping = {\n",
        "    'unacc':0,\n",
        "    'acc':1,\n",
        "    'good':2,\n",
        "    'vgood':3\n",
        "}\n",
        "y['class'] = y['class'].map(label_mapping)\n",
        "y=np.array(y)\n",
        "\n",
        "#knn object\n",
        "\n",
        "knn=neighbors.KNeighborsClassifier(n_neighbors=25, weights='uniform')\n",
        "X_train, X_test, y_train, y_test = train_test_split(X, y, test_size=0.2)\n",
        "knn.fit(X_train, y_train)\n",
        "prediction=knn.predict(X_test)\n",
        "accuracy=metrics.accuracy_score(y_test, prediction)\n",
        "print(\"predictions: \", prediction)\n",
        "print(\"accuracy\", accuracy)\n",
        "\n",
        "print(\"actual value: \", y[20])\n",
        "print(\"predicted value: \", knn.predict(X)[20])"
      ],
      "execution_count": null,
      "outputs": []
    }
  ]
}