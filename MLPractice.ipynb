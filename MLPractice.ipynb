{
  "nbformat": 4,
  "nbformat_minor": 0,
  "metadata": {
    "colab": {
      "name": "MLPractice.ipynb",
      "provenance": [],
      "collapsed_sections": [],
      "authorship_tag": "ABX9TyNXxN/EeyU4DH9SqcuWC45I",
      "include_colab_link": true
    },
    "kernelspec": {
      "name": "python3",
      "display_name": "Python 3"
    },
    "language_info": {
      "name": "python"
    }
  },
  "cells": [
    {
      "cell_type": "markdown",
      "metadata": {
        "id": "view-in-github",
        "colab_type": "text"
      },
      "source": [
        "<a href=\"https://colab.research.google.com/github/Prakhar-2B/Prakhar-2B/blob/main/MLPractice.ipynb\" target=\"_parent\"><img src=\"https://colab.research.google.com/assets/colab-badge.svg\" alt=\"Open In Colab\"/></a>"
      ]
    },
    {
      "cell_type": "code",
      "metadata": {
        "colab": {
          "base_uri": "https://localhost:8080/"
        },
        "id": "CR3HpsrrtvLt",
        "outputId": "41687b9c-1c5a-4efe-8fa6-702194e1b7d4"
      },
      "source": [
        "import pandas as pd \n",
        "import numpy as np\n",
        "from sklearn import neighbors, metrics \n",
        "from sklearn.preprocessing import LabelEncoder\n",
        "from sklearn.model_selection import train_test_split\n",
        "\n",
        "data =pd.read_csv('car.data')\n",
        "\n",
        "X=data[['buying',\n",
        "        'maint',\n",
        "        'safety'\n",
        "]].values\n",
        "\n",
        "y=data[['class']]\n",
        "\n",
        "\n",
        "Le=LabelEncoder()\n",
        "for i in range(len(X[0])):\n",
        "  X[:, i] = Le.fit_transform(X[:, i])\n",
        "\n",
        "\n",
        "\n",
        "label_mapping = {\n",
        "    'unacc':0,\n",
        "    'acc':1,\n",
        "    'good':2,\n",
        "    'vgood':3\n",
        "}\n",
        "y['class'] = y['class'].map(label_mapping)\n",
        "y=np.array(y)\n",
        "\n",
        "#knn object\n",
        "\n",
        "knn=neighbors.KNeighborsClassifier(n_neighbors=25, weights='uniform')\n",
        "X_train, X_test, y_train, y_test = train_test_split(X, y, test_size=0.2)\n",
        "knn.fit(X_train, y_train)\n",
        "prediction=knn.predict(X_test)\n",
        "accuracy=metrics.accuracy_score(y_test, prediction)\n",
        "print(\"predictions: \", prediction)\n",
        "print(\"accuracy\", accuracy)\n",
        "\n",
        "print(\"actual value: \", y[20])\n",
        "print(\"predicted value: \", knn.predict(X)[20])"
      ],
      "execution_count": 24,
      "outputs": [
        {
          "output_type": "stream",
          "name": "stdout",
          "text": [
            "predictions:  [0 0 0 1 3 0 0 0 0 0 0 0 1 0 1 0 0 0 0 1 2 1 0 1 1 1 0 2 0 0 3 0 0 0 2 0 0\n",
            " 1 0 0 1 0 1 0 0 0 0 0 1 0 1 0 0 0 0 0 0 0 1 0 1 0 0 0 0 0 1 0 1 0 0 0 0 0\n",
            " 0 0 0 0 0 0 1 0 0 0 0 0 0 1 0 1 0 0 0 0 0 0 0 0 0 0 3 0 0 0 0 0 0 0 0 0 0\n",
            " 0 0 0 0 0 0 0 0 0 0 0 1 0 0 0 0 1 1 1 0 0 1 0 0 0 1 0 0 1 0 0 0 0 0 0 0 0\n",
            " 0 0 0 1 0 1 0 0 0 1 0 0 0 0 0 0 0 1 1 1 1 0 0 2 2 0 0 0 1 1 0 0 0 1 0 0 0\n",
            " 0 0 0 0 0 0 1 0 1 0 0 0 0 0 2 0 0 0 0 0 0 0 1 0 0 0 0 0 0 0 1 0 0 0 0 3 0\n",
            " 1 1 0 0 0 0 2 0 1 0 2 0 0 0 1 2 1 0 0 0 0 0 0 0 0 0 1 1 0 0 0 0 1 2 0 0 1\n",
            " 0 1 0 0 0 2 0 0 0 1 0 0 1 0 1 0 2 1 0 2 0 1 0 3 0 0 1 0 0 0 0 0 0 0 0 0 0\n",
            " 1 0 0 0 0 0 0 0 0 2 3 0 2 0 0 0 0 0 0 0 0 1 2 0 0 1 0 1 0 0 0 0 0 3 0 1 0\n",
            " 0 0 1 2 0 0 0 0 0 0 0 0 1]\n",
            "accuracy 0.7196531791907514\n",
            "actual value:  [0]\n",
            "predicted value:  0\n"
          ]
        },
        {
          "output_type": "stream",
          "name": "stderr",
          "text": [
            "/usr/local/lib/python3.7/dist-packages/ipykernel_launcher.py:29: SettingWithCopyWarning: \n",
            "A value is trying to be set on a copy of a slice from a DataFrame.\n",
            "Try using .loc[row_indexer,col_indexer] = value instead\n",
            "\n",
            "See the caveats in the documentation: https://pandas.pydata.org/pandas-docs/stable/user_guide/indexing.html#returning-a-view-versus-a-copy\n",
            "/usr/local/lib/python3.7/dist-packages/ipykernel_launcher.py:36: DataConversionWarning: A column-vector y was passed when a 1d array was expected. Please change the shape of y to (n_samples, ), for example using ravel().\n"
          ]
        }
      ]
    }
  ]
}